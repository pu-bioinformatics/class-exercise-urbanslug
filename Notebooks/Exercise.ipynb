{
 "cells": [
  {
   "cell_type": "markdown",
   "metadata": {},
   "source": [
    "1. Create a program that asks the user to enter their name and their age. Print out a message addressed to them that tells them the year that they will turn 100 years old."
   ]
  },
  {
   "cell_type": "code",
   "execution_count": 27,
   "metadata": {},
   "outputs": [],
   "source": [
    "from datetime import date\n",
    "\n",
    "def check_100(age):\n",
    "    current_year = date.today().year\n",
    "    years_left = 100 - age\n",
    "    return current_year+years_left"
   ]
  },
  {
   "cell_type": "code",
   "execution_count": 28,
   "metadata": {},
   "outputs": [
    {
     "data": {
      "text/plain": [
       "2093"
      ]
     },
     "execution_count": 28,
     "metadata": {},
     "output_type": "execute_result"
    }
   ],
   "source": [
    "check_100(26) # in 2019 => 2093"
   ]
  },
  {
   "cell_type": "markdown",
   "metadata": {},
   "source": [
    "2. Write a function that returns the maximum of two numbers.\n",
    "    "
   ]
  },
  {
   "cell_type": "code",
   "execution_count": 10,
   "metadata": {},
   "outputs": [],
   "source": [
    "def max_two(first, second):\n",
    "    return first if first > second else second"
   ]
  },
  {
   "cell_type": "code",
   "execution_count": 13,
   "metadata": {},
   "outputs": [
    {
     "data": {
      "text/plain": [
       "11"
      ]
     },
     "execution_count": 13,
     "metadata": {},
     "output_type": "execute_result"
    }
   ],
   "source": [
    "max_two(9,10) # => 10\n",
    "max_two(11,9) # => 11"
   ]
  },
  {
   "cell_type": "markdown",
   "metadata": {},
   "source": [
    "3. Write a function called fizz_buzz that takes a number. - If the number is divisible by 3, it should return “Fizz”. - If it is divisible by 5, it should return “Buzz”. - If it is divisible by both 3 and 5, it should return “FizzBuzz”. Otherwise, it should return the same number."
   ]
  },
  {
   "cell_type": "code",
   "execution_count": 67,
   "metadata": {},
   "outputs": [],
   "source": [
    "def is_even(n):\n",
    "    return n%2==0\n",
    "\n",
    "def is_odd(n):\n",
    "    return n%2!=0\n",
    "\n",
    "def is_div_3(n):\n",
    "    return n%3==0\n",
    "\n",
    "def is_div_5(n):\n",
    "    return n%5==0\n",
    "\n",
    "def is_div_7(n):\n",
    "    return n%7==0"
   ]
  },
  {
   "cell_type": "code",
   "execution_count": 61,
   "metadata": {},
   "outputs": [],
   "source": [
    "def fizz_buzz(num):\n",
    "    if is_div_3(num):\n",
    "        return \"Fizz\"\n",
    "    elif is_div_5(num):\n",
    "        return \"Buzz\"\n",
    "    elif is_div_3(num) and is_div_5(num):\n",
    "        return \"FizzBuzz\"\n",
    "    else:\n",
    "        return num"
   ]
  },
  {
   "cell_type": "code",
   "execution_count": 62,
   "metadata": {},
   "outputs": [
    {
     "data": {
      "text/plain": [
       "11"
      ]
     },
     "execution_count": 62,
     "metadata": {},
     "output_type": "execute_result"
    }
   ],
   "source": [
    "fizz_buzz(9) #=> fizz\n",
    "fizz_buzz(995) #=> buzz\n",
    "fizz_buzz(300) #=> fizzbuzz\n",
    "fizz_buzz(11) #=> 11"
   ]
  },
  {
   "cell_type": "markdown",
   "metadata": {},
   "source": [
    "4. Write a function for checking the speed of drivers. This function should have one parameter: speed. - If speed is less than 70, it should print “Ok”. - Otherwise, for every 5km above the speed limit (70), it should give the driver one demerit point and print the total number of demerit points. For example, if the speed is 80, it should print: “Points: 2”. - If the driver gets more than 12 points, the function should print: “License suspended”"
   ]
  },
  {
   "cell_type": "code",
   "execution_count": 43,
   "metadata": {},
   "outputs": [],
   "source": [
    "def compute_demerits(speed):\n",
    "    return int((speed-70)/5)\n",
    "\n",
    "def speed_check(speed):\n",
    "    if speed < 70:\n",
    "        print(\"Ok\")\n",
    "    else:\n",
    "        demerits = compute_demerits(speed)\n",
    "        print(demerits)\n",
    "        if demerits > 12:\n",
    "            print(\"License suspended\")"
   ]
  },
  {
   "cell_type": "code",
   "execution_count": 44,
   "metadata": {},
   "outputs": [
    {
     "name": "stdout",
     "output_type": "stream",
     "text": [
      "Ok\n"
     ]
    }
   ],
   "source": [
    "speed_check(30)"
   ]
  },
  {
   "cell_type": "code",
   "execution_count": 45,
   "metadata": {},
   "outputs": [
    {
     "name": "stdout",
     "output_type": "stream",
     "text": [
      "0\n"
     ]
    }
   ],
   "source": [
    "speed_check(70)"
   ]
  },
  {
   "cell_type": "code",
   "execution_count": 46,
   "metadata": {},
   "outputs": [
    {
     "name": "stdout",
     "output_type": "stream",
     "text": [
      "3\n"
     ]
    }
   ],
   "source": [
    "speed_check(85)"
   ]
  },
  {
   "cell_type": "code",
   "execution_count": 47,
   "metadata": {},
   "outputs": [
    {
     "name": "stdout",
     "output_type": "stream",
     "text": [
      "13\n",
      "License suspended\n"
     ]
    }
   ],
   "source": [
    "speed_check(135)"
   ]
  },
  {
   "cell_type": "markdown",
   "metadata": {},
   "source": [
    "5. Write a function called showNumbers that takes a parameter called limit. It should print all the numbers between 0 and limit with a label to identify the even and odd numbers. For example, if the limit is 3, it should print: - 0 EVEN - 1 ODD - 2 EVEN - 3 ODD"
   ]
  },
  {
   "cell_type": "code",
   "execution_count": 52,
   "metadata": {},
   "outputs": [],
   "source": [
    "def showNumbers(limit):\n",
    "    for i in range(limit+1):\n",
    "        if is_even(i):\n",
    "            print('-', str(i), \"EVEN\", end=\" \")\n",
    "        else:\n",
    "            print('-', str(i), \"ODD\", end=\" \")"
   ]
  },
  {
   "cell_type": "code",
   "execution_count": 53,
   "metadata": {},
   "outputs": [
    {
     "name": "stdout",
     "output_type": "stream",
     "text": [
      "- 0 EVEN - 1 ODD - 2 EVEN - 3 ODD - 4 EVEN - 5 ODD - 6 EVEN - 7 ODD - 8 EVEN - 9 ODD "
     ]
    }
   ],
   "source": [
    "showNumbers(9)"
   ]
  },
  {
   "cell_type": "markdown",
   "metadata": {},
   "source": [
    "6. Write a function that returns the sum of multiples of 3 and 5 between 0 and limit (parameter). For example, if limit is 20, it should return the sum of 3, 5, 6, 9, 10, 12, 15, 18, 20."
   ]
  },
  {
   "cell_type": "code",
   "execution_count": 73,
   "metadata": {},
   "outputs": [],
   "source": [
    "def sums(lim):\n",
    "    nums = list(filter((lambda num: is_div_3(num)  or is_div_5(num)), range(lim+1)))\n",
    "    return sum(nums)"
   ]
  },
  {
   "cell_type": "code",
   "execution_count": 74,
   "metadata": {},
   "outputs": [
    {
     "data": {
      "text/plain": [
       "98"
      ]
     },
     "execution_count": 74,
     "metadata": {},
     "output_type": "execute_result"
    }
   ],
   "source": [
    "sums(20)"
   ]
  },
  {
   "cell_type": "markdown",
   "metadata": {},
   "source": [
    "7. Write a function called show_stars(rows). If rows is 5, it should print the following:\n",
    "\n",
    "        *\n",
    "        **\n",
    "        ***\n",
    "        ****\n",
    "        *****\n",
    "\n"
   ]
  },
  {
   "cell_type": "code",
   "execution_count": 71,
   "metadata": {},
   "outputs": [],
   "source": [
    "def show_stars(rows):\n",
    "    x = 1\n",
    "    while x <= rows:\n",
    "        y = x\n",
    "        while y > 0:\n",
    "            print('*', end='')\n",
    "            y = y-1\n",
    "        print('')\n",
    "        x = x + 1"
   ]
  },
  {
   "cell_type": "code",
   "execution_count": 72,
   "metadata": {},
   "outputs": [
    {
     "name": "stdout",
     "output_type": "stream",
     "text": [
      "*\n",
      "**\n",
      "***\n",
      "****\n",
      "*****\n"
     ]
    }
   ],
   "source": [
    "show_stars(5)"
   ]
  },
  {
   "cell_type": "markdown",
   "metadata": {},
   "source": [
    "8. Write a function that prints all the prime numbers between 0 and limit where limit is a parameter.\n"
   ]
  },
  {
   "cell_type": "code",
   "execution_count": 69,
   "metadata": {},
   "outputs": [],
   "source": [
    "def is_prime(num):\n",
    "    return not ((is_even(num) and num != 2) or \n",
    "                (is_div_3(num) and num != 3) or \n",
    "                (is_div_5(num) and num != 5) or\n",
    "                (is_div_7(num) and num != 7))\n",
    "\n",
    "def get_primes(lim):\n",
    "    g = list(filter((lambda num: is_prime(num)), range(1, lim+1)))\n",
    "    return g"
   ]
  },
  {
   "cell_type": "code",
   "execution_count": 70,
   "metadata": {},
   "outputs": [
    {
     "data": {
      "text/plain": [
       "[1, 2, 3, 5, 7, 11, 13, 17, 19]"
      ]
     },
     "execution_count": 70,
     "metadata": {},
     "output_type": "execute_result"
    }
   ],
   "source": [
    "get_primes(20)"
   ]
  }
 ],
 "metadata": {
  "kernelspec": {
   "display_name": "Python 3",
   "language": "python",
   "name": "python3"
  },
  "language_info": {
   "codemirror_mode": {
    "name": "ipython",
    "version": 3
   },
   "file_extension": ".py",
   "mimetype": "text/x-python",
   "name": "python",
   "nbconvert_exporter": "python",
   "pygments_lexer": "ipython3",
   "version": "3.7.2"
  }
 },
 "nbformat": 4,
 "nbformat_minor": 2
}
